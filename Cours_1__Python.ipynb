{
  "nbformat": 4,
  "nbformat_minor": 0,
  "metadata": {
    "colab": {
      "name": "Cours_1__Python.ipynb",
      "provenance": [],
      "include_colab_link": true
    },
    "kernelspec": {
      "display_name": "Python 3",
      "language": "python",
      "name": "python3"
    },
    "language_info": {
      "codemirror_mode": {
        "name": "ipython",
        "version": 3
      },
      "file_extension": ".py",
      "mimetype": "text/x-python",
      "name": "python",
      "nbconvert_exporter": "python",
      "pygments_lexer": "ipython3",
      "version": "3.6.1"
    }
  },
  "cells": [
    {
      "cell_type": "markdown",
      "metadata": {
        "id": "view-in-github",
        "colab_type": "text"
      },
      "source": [
        "<a href=\"https://colab.research.google.com/github/AyoubDSK/TAL2021_Cherguelaine/blob/main/Cours_1__Python.ipynb\" target=\"_parent\"><img src=\"https://colab.research.google.com/assets/colab-badge.svg\" alt=\"Open In Colab\"/></a>"
      ]
    },
    {
      "cell_type": "markdown",
      "metadata": {
        "id": "7ustgvV11qua"
      },
      "source": [
        "## Python "
      ]
    },
    {
      "cell_type": "markdown",
      "metadata": {
        "id": "jdOEPf761qul"
      },
      "source": [
        "Le langage de programmation Python a été créé en 1989 par Guido van Rossum, aux Pays-Bas. Le nom Python vient d’un hommage à la série télévisée Monty Python dont G. van Rossum est fan. La première version publique de ce langage a été publiée en 1991.\n",
        "\n",
        "La dernière version de Python est la version 3. Plus précisément, la version 3.7 a été publiée en juin 2018.\n",
        "\n",
        "### Python est un langage interprété\n",
        "Chaque ligne de code est lue puis interprétée afin d’être exécutée par l’ordinateur. "
      ]
    },
    {
      "cell_type": "markdown",
      "metadata": {
        "id": "lY1N2Sa81qun"
      },
      "source": [
        "## 1. Structures de données primitives"
      ]
    },
    {
      "cell_type": "markdown",
      "metadata": {
        "id": "z0215p_P1quo"
      },
      "source": [
        "Les différents types des données primitives en python sont: Integer, boolean, float et String."
      ]
    },
    {
      "cell_type": "code",
      "metadata": {
        "id": "IkQmCAWP1qup",
        "colab": {
          "base_uri": "https://localhost:8080/"
        },
        "outputId": "bb29c458-bae6-496f-96fc-93ca47810376"
      },
      "source": [
        "# Floats\n",
        "x = 9.0\n",
        "y = 2.0\n",
        "# Addition\n",
        "print(x + y)\n",
        "# Subtraction\n",
        "print(x - y)\n",
        "# Multiplication\n",
        "print(x * y)\n",
        "# Returns the quotient\n",
        "print(x / y)\n",
        "# Returns the remainder\n",
        "print(x % y) \n",
        "# Absolute value\n",
        "print(abs(x))\n",
        "# x to the power y\n",
        "print(x ** y)"
      ],
      "execution_count": 1,
      "outputs": [
        {
          "output_type": "stream",
          "name": "stdout",
          "text": [
            "11.0\n",
            "7.0\n",
            "18.0\n",
            "4.5\n",
            "1.0\n",
            "9.0\n",
            "81.0\n"
          ]
        }
      ]
    },
    {
      "cell_type": "code",
      "metadata": {
        "id": "d_o__dgd1qur",
        "outputId": "f4019db2-0c7a-4f8a-e9bc-0fef6e786865"
      },
      "source": [
        "#string\n",
        "x = 'Cake'\n",
        "y = 'Cookie'\n",
        "print(x + ' and ' + y)"
      ],
      "execution_count": null,
      "outputs": [
        {
          "name": "stdout",
          "output_type": "stream",
          "text": [
            "Cake and Cookie\n"
          ]
        }
      ]
    },
    {
      "cell_type": "markdown",
      "metadata": {
        "id": "0HY7SMiO1qus"
      },
      "source": [
        "### Nommage des variables\n",
        "\n",
        "Le nom des variable en Python peut-être constitué de lettres minuscules (a à z), de lettres majuscules (A à Z), de nombres (0 à 9) ou du caractère souligné (_).\n",
        "\n",
        "Néanmoins, un nom de variable ne doit pas débuter ni par un chiffre, ni par $.. et ne peut pas contenir de caractère accentué. Il faut absolument éviter d’utiliser un mot “réservé” par Python comme nom de variable (par exemple : print, range, for, from, etc.).\n",
        "\n",
        "Python est sensible à la casse, ce qui signifie que les variables TesT, test ou TEST sont différentes. Enfin, vous ne pouvez pas utilisez d’espace dans un nom de variable."
      ]
    },
    {
      "cell_type": "markdown",
      "metadata": {
        "id": "EYmn9Ibv1qut"
      },
      "source": [
        "## Opérations\n",
        "### Opérations sur les types numériques\n",
        "\n",
        "Les quatre opérations de base se font de manière simple sur les types numériques (nombres entiers et réels) :"
      ]
    },
    {
      "cell_type": "code",
      "metadata": {
        "id": "PPNFh7q91quu",
        "outputId": "6212932c-89dd-49c8-b6af-f41f69ed9e40"
      },
      "source": [
        "x = 45\n",
        "print( x + 2)\n",
        "y = 2.5\n",
        "print(x + y)\n",
        "print((x * 10) / y)"
      ],
      "execution_count": null,
      "outputs": [
        {
          "name": "stdout",
          "output_type": "stream",
          "text": [
            "47\n",
            "47.5\n",
            "180.0\n"
          ]
        }
      ]
    },
    {
      "cell_type": "markdown",
      "metadata": {
        "id": "7JDT4nFx1quv"
      },
      "source": [
        "L’opérateur puissance utilise le symbole **. Pour obtenir le reste d’une division entière, on utilise le symbole modulo %"
      ]
    },
    {
      "cell_type": "code",
      "metadata": {
        "id": "xgtDchYU1quv",
        "outputId": "7c9901c5-665a-4f1f-bc1c-68b110508481"
      },
      "source": [
        "print(2**3)\n",
        "print(5 % 4)\n",
        "print( 8 % 4)"
      ],
      "execution_count": null,
      "outputs": [
        {
          "name": "stdout",
          "output_type": "stream",
          "text": [
            "8\n",
            "1\n",
            "0\n"
          ]
        }
      ]
    },
    {
      "cell_type": "markdown",
      "metadata": {
        "id": "bfuOaufX1quw"
      },
      "source": [
        "### Opérations sur les chaînes de caractères\n",
        "Pour les chaînes de caractères, deux opérations sont possibles, l’addition et la multiplication "
      ]
    },
    {
      "cell_type": "code",
      "metadata": {
        "id": "w9W_8OnV1qux",
        "outputId": "a0dc8322-7706-424f-87cc-e6bbf3ce2137"
      },
      "source": [
        "chaine = \" Salut\"\n",
        "print(chaine)\n",
        "print(chaine + \" Python\")\n",
        "print(chaine * 3)\n"
      ],
      "execution_count": null,
      "outputs": [
        {
          "name": "stdout",
          "output_type": "stream",
          "text": [
            " Salut\n",
            " Salut Python\n",
            " Salut Salut Salut\n"
          ]
        }
      ]
    },
    {
      "cell_type": "markdown",
      "metadata": {
        "id": "C7aomvoo1qux"
      },
      "source": [
        "### Conditions de test\n",
        "equals x==42\n",
        "\n",
        "not equal x!=42\n",
        "\n",
        "greater than x>42\n",
        "\n",
        "greater or equal to x>=42\n",
        "\n",
        "less than x<42\n",
        "\n",
        "less or equal to x<=42"
      ]
    },
    {
      "cell_type": "code",
      "metadata": {
        "id": "ew6IKlbm1quy",
        "outputId": "903b641b-2b88-4872-aab4-1af5a43994ec"
      },
      "source": [
        "### Un simple if test. Comment utiliser les conditions\n",
        "age=42\n",
        "if age<= 52:\n",
        "    print(\" you can vote!\")\n",
        "    "
      ],
      "execution_count": null,
      "outputs": [
        {
          "name": "stdout",
          "output_type": "stream",
          "text": [
            " you can vote!\n"
          ]
        }
      ]
    },
    {
      "cell_type": "code",
      "metadata": {
        "id": "dKf_LZHf1quy",
        "outputId": "6e31d885-259e-468e-83f8-e6ff25595394"
      },
      "source": [
        "age=17\n",
        "if age>= 18:\n",
        "    print(\" you can vote!\")\n",
        "else:\n",
        "    print(\"No vote for you\")"
      ],
      "execution_count": null,
      "outputs": [
        {
          "name": "stdout",
          "output_type": "stream",
          "text": [
            "No vote for you\n"
          ]
        }
      ]
    },
    {
      "cell_type": "code",
      "metadata": {
        "id": "uOQYM6521quz",
        "outputId": "d78900c7-ef54-4767-a5df-0f17a127d866"
      },
      "source": [
        "age=42\n",
        "if age>= 4:\n",
        "    ticket_price=0\n",
        "elif age<18:\n",
        "    ticket_price=10\n",
        "else:\n",
        "    ticket_price=15\n",
        "      \n",
        "print(\" ticket_price=\",ticket_price)"
      ],
      "execution_count": null,
      "outputs": [
        {
          "name": "stdout",
          "output_type": "stream",
          "text": [
            " ticket_price= 0\n"
          ]
        }
      ]
    },
    {
      "cell_type": "markdown",
      "metadata": {
        "id": "iFhYova11qu0"
      },
      "source": [
        "### La fonction type()"
      ]
    },
    {
      "cell_type": "markdown",
      "metadata": {
        "id": "oIxqBQki1qu1"
      },
      "source": [
        "La fonction type() renvoie le type d’une variable."
      ]
    },
    {
      "cell_type": "code",
      "metadata": {
        "id": "QS2lv-6R1qu1",
        "colab": {
          "base_uri": "https://localhost:8080/"
        },
        "outputId": "8326b621-8d45-45c9-f782-866d4ec222cc"
      },
      "source": [
        "x=6.0\n",
        "y=2\n",
        "print(type(x))\n",
        "print(type(y))"
      ],
      "execution_count": null,
      "outputs": [
        {
          "output_type": "stream",
          "name": "stdout",
          "text": [
            "<class 'float'>\n",
            "<class 'int'>\n"
          ]
        }
      ]
    },
    {
      "cell_type": "code",
      "metadata": {
        "id": "uOVNkn431qu2",
        "colab": {
          "base_uri": "https://localhost:8080/"
        },
        "outputId": "9136cdf7-5e76-48ba-f840-9f8536b7b3e1"
      },
      "source": [
        "x = 2\n",
        "print(type(x))\n",
        "y = 2.0\n",
        "print(type(y))\n",
        "z = '2'\n",
        "print(type(z))\n"
      ],
      "execution_count": null,
      "outputs": [
        {
          "output_type": "stream",
          "name": "stdout",
          "text": [
            "<class 'int'>\n",
            "<class 'float'>\n",
            "<class 'str'>\n"
          ]
        }
      ]
    },
    {
      "cell_type": "markdown",
      "metadata": {
        "id": "pk1lBD0n1qu2"
      },
      "source": [
        "### Conversion de types\n",
        "On est souvent amené à convertir les types, par exemple passer d’un type numérique à une chaîne de caractères ou vice-versa. En Python, il suffit d'utiliser les fonctions int(), float() et str():"
      ]
    },
    {
      "cell_type": "code",
      "metadata": {
        "id": "A22aATFe1qu3",
        "outputId": "6651afc8-140f-4f6a-aa0d-236b7af0073a"
      },
      "source": [
        "i = 3\n",
        "print('String =',type(str(i)))\n",
        "\n",
        "i = '456'\n",
        "print( 'Float =',type(float(i)))\n",
        "#print( 'Integer =',int(i))"
      ],
      "execution_count": null,
      "outputs": [
        {
          "name": "stdout",
          "output_type": "stream",
          "text": [
            "String = <class 'str'>\n",
            "Float = <class 'float'>\n"
          ]
        }
      ]
    },
    {
      "cell_type": "markdown",
      "metadata": {
        "id": "FKQn9CZU1qu4"
      },
      "source": [
        "### Affichage\n",
        "La fonction print()  permet d’afficher une chaîne de caractères"
      ]
    },
    {
      "cell_type": "code",
      "metadata": {
        "id": "dF-4bmg71qu4",
        "outputId": "6e9d532a-00af-4c02-fe66-58687f2c5c6e"
      },
      "source": [
        "x = 32\n",
        "nom = 'Nassima'\n",
        "print(nom , 'a ' , x , ' ans')"
      ],
      "execution_count": null,
      "outputs": [
        {
          "name": "stdout",
          "output_type": "stream",
          "text": [
            "Nassima a  32  ans\n"
          ]
        }
      ]
    },
    {
      "cell_type": "code",
      "metadata": {
        "id": "0sH-Y3jE1qu5",
        "outputId": "dbcf0c5d-7738-4e3c-abbc-5e55af254253"
      },
      "source": [
        "#imprimer une chaine de caractère\n",
        "ani1 = 'chat'\n",
        "ani2 = 'souris'\n",
        "print(ani1, ani2)\n",
        "print(ani1 + ani2)\n",
        "print(ani1 +' '+ ani2)"
      ],
      "execution_count": null,
      "outputs": [
        {
          "name": "stdout",
          "output_type": "stream",
          "text": [
            "chat souris\n",
            "chatsouris\n",
            "chat souris\n"
          ]
        }
      ]
    },
    {
      "cell_type": "markdown",
      "metadata": {
        "id": "AYzdDO2Y1qu5"
      },
      "source": [
        "### Écriture formatée"
      ]
    },
    {
      "cell_type": "markdown",
      "metadata": {
        "id": "U49skkU-1qu6"
      },
      "source": [
        "La méthode .format() permet une meilleure organisation de l’affichage des variables."
      ]
    },
    {
      "cell_type": "code",
      "metadata": {
        "id": "O1vKPvhy1qu6",
        "outputId": "a2587e7d-e501-434b-a1a4-485c5cbfeaed"
      },
      "source": [
        "x = 22\n",
        "nom = 'Soumeya'\n",
        "#les accolades vides {} précisent l’endroit où le contenu de la variable doit être inséré\n",
        "#l’instruction .format(nom, x) indique la liste des variables à insérer,\n",
        "print('{} a {} ans'.format(nom, x))"
      ],
      "execution_count": null,
      "outputs": [
        {
          "name": "stdout",
          "output_type": "stream",
          "text": [
            "Soumeya a 22 ans\n"
          ]
        }
      ]
    },
    {
      "cell_type": "code",
      "metadata": {
        "id": "HnXh0ZGF1qu7",
        "outputId": "07a7a0c9-4913-40e7-c5d3-f4c25b811656"
      },
      "source": [
        "print('{1} a {0} ans'.format(nom, x))"
      ],
      "execution_count": null,
      "outputs": [
        {
          "name": "stdout",
          "output_type": "stream",
          "text": [
            "22 a Soumeya ans\n"
          ]
        }
      ]
    },
    {
      "cell_type": "code",
      "metadata": {
        "id": "WMgW0ZXO1qu7",
        "outputId": "86192d9e-cccf-4419-aec6-9fe34d414849"
      },
      "source": [
        "propGC = (4500 + 2575) / 14800\n",
        "print(\"La proportion de GC est\", propGC)\n",
        "print(\"La proportion de GC est {:.2f}\".format(propGC))\n",
        "print(\"La proportion de GC est {:.5f}\".format(propGC))"
      ],
      "execution_count": null,
      "outputs": [
        {
          "name": "stdout",
          "output_type": "stream",
          "text": [
            "La proportion de GC est 0.4780405405405405\n",
            "La proportion de GC est 0.48\n",
            "La proportion de GC est 0.47804\n"
          ]
        }
      ]
    },
    {
      "cell_type": "code",
      "metadata": {
        "id": "5YS_UqGd1qu8",
        "outputId": "c6a62831-6377-4949-b902-549207a87508"
      },
      "source": [
        "nbG = 450\n",
        "print(\"Le barile {:f} litres\".format(nbG))"
      ],
      "execution_count": null,
      "outputs": [
        {
          "name": "stdout",
          "output_type": "stream",
          "text": [
            "Le barile 450.000000 litres\n"
          ]
        }
      ]
    },
    {
      "cell_type": "code",
      "metadata": {
        "id": "MfL2ctyT1qu8",
        "outputId": "cc50cd13-5af8-455f-806d-6f8100ff534f"
      },
      "source": [
        "# Le signe \\ en fin de ligne permet de poursuivre la commande sur la ligne suivante\n",
        "print(\"Ce barile contient {:f} L et {:d} boites\" \\\n",
        "    .format(propGC,nbG))"
      ],
      "execution_count": null,
      "outputs": [
        {
          "name": "stdout",
          "output_type": "stream",
          "text": [
            "Ce barile contient 0.478041 L et 450 boites\n"
          ]
        }
      ]
    },
    {
      "cell_type": "code",
      "metadata": {
        "id": "u-y-zq3k1qu9",
        "outputId": "ca88ded1-384d-4b7f-9700-83ba08501215"
      },
      "source": [
        "#le caractère ; sert de séparateur entre les instructions sur une même ligne\n",
        "print(\"{:d}\".format(10))  ; print(\"{:d}\".format(1000))"
      ],
      "execution_count": null,
      "outputs": [
        {
          "name": "stdout",
          "output_type": "stream",
          "text": [
            "10\n",
            "1000\n"
          ]
        }
      ]
    },
    {
      "cell_type": "code",
      "metadata": {
        "id": "aecuwjue1qu-",
        "outputId": "7e5801d4-c238-40e3-e20c-79f03c44478a"
      },
      "source": [
        "#Ancienne méthode de formatage\n",
        "x = 32\n",
        "nom = 'John'\n",
        "print(\"%s a %d ans\" % (nom,x))"
      ],
      "execution_count": null,
      "outputs": [
        {
          "name": "stdout",
          "output_type": "stream",
          "text": [
            "John a 32 ans\n"
          ]
        }
      ]
    },
    {
      "cell_type": "code",
      "metadata": {
        "id": "2aRxikhG1qu-",
        "outputId": "2c60a0de-35f0-42e1-e48d-77c1f87f9028"
      },
      "source": [
        "#Lire les variables saisies à partir du clavier. Les variables saisies sont des String\n",
        "name = input(\"What's your name? \")\n",
        "print(\"Hello, \" + name + \"!\")"
      ],
      "execution_count": null,
      "outputs": [
        {
          "name": "stdout",
          "output_type": "stream",
          "text": [
            "What's your name? samira\n",
            "Hello, samira!\n"
          ]
        }
      ]
    },
    {
      "cell_type": "code",
      "metadata": {
        "id": "kcaLSF281qu_",
        "colab": {
          "base_uri": "https://localhost:8080/"
        },
        "outputId": "a89cff52-e091-4e9e-f23f-56e274be2ebe"
      },
      "source": [
        "#Prompting numeric data\n",
        "age = input(\"How old are you? \")\n",
        "age = int(age)\n",
        "type(age)"
      ],
      "execution_count": 2,
      "outputs": [
        {
          "name": "stdout",
          "output_type": "stream",
          "text": [
            "How old are you? 21\n"
          ]
        },
        {
          "output_type": "execute_result",
          "data": {
            "text/plain": [
              "int"
            ]
          },
          "metadata": {},
          "execution_count": 2
        }
      ]
    },
    {
      "cell_type": "code",
      "metadata": {
        "id": "gUcmIa7v1qu_",
        "outputId": "23d3467d-2f10-4815-821c-0b87feee8d77"
      },
      "source": [
        "x=True #False\n",
        "type(x)"
      ],
      "execution_count": null,
      "outputs": [
        {
          "data": {
            "text/plain": [
              "bool"
            ]
          },
          "execution_count": 26,
          "metadata": {},
          "output_type": "execute_result"
        }
      ]
    },
    {
      "cell_type": "markdown",
      "metadata": {
        "collapsed": true,
        "id": "iJP1xuf21qvA"
      },
      "source": [
        "## 2. Structures de données non-primitives\n",
        "\n",
        "###  2.1. Liste : \n",
        "Une liste est une structure de données qui contient une série de valeurs. Python autorise la construction de liste contenant des valeurs de différents types (par exemple entier et chaîne de caractères), ce qui leur confère une grande flexibilité. "
      ]
    },
    {
      "cell_type": "code",
      "metadata": {
        "id": "xrBxx4YF1qvA",
        "outputId": "664de168-1dc6-439b-d7f4-9ab22da7eecb"
      },
      "source": [
        "#Créer une liste\n",
        "bikes =['trek', 'redline','giant']\n",
        "tailles = [5, 2.5, 1.75, 0.15]\n",
        "mixte = ['girafe', 5, 'souris', 0.15]\n",
        "#Affichage du contenu \n",
        "print(bikes)\n",
        "print(tailles)\n",
        "print(mixte)"
      ],
      "execution_count": null,
      "outputs": [
        {
          "name": "stdout",
          "output_type": "stream",
          "text": [
            "['trek', 'redline', 'giant']\n",
            "[5, 2.5, 1.75, 0.15]\n",
            "['girafe', 5, 'souris', 0.15]\n"
          ]
        }
      ]
    },
    {
      "cell_type": "code",
      "metadata": {
        "id": "Ea_AfC-d1qvB",
        "outputId": "c84690c5-e211-4e5c-a6be-84984ce711ba"
      },
      "source": [
        "#Récupérer le premier élément de la liste\n",
        "first_bike=bikes[0]\n",
        "first_bike2=bikes[2]\n",
        "#Affichage du contenu \n",
        "print(first_bike)\n",
        "first_bike2"
      ],
      "execution_count": null,
      "outputs": [
        {
          "name": "stdout",
          "output_type": "stream",
          "text": [
            "trek\n"
          ]
        },
        {
          "data": {
            "text/plain": [
              "'giant'"
            ]
          },
          "execution_count": 30,
          "metadata": {},
          "output_type": "execute_result"
        }
      ]
    },
    {
      "cell_type": "code",
      "metadata": {
        "id": "o3uWCkZg1qvB",
        "outputId": "7d5cf504-828a-4480-8119-e7d3d6770a5a"
      },
      "source": [
        "print(bikes)\n",
        "#Récupérer le dernier élément de la liste\n",
        "last_item=bikes[-1]\n",
        "last_item"
      ],
      "execution_count": null,
      "outputs": [
        {
          "name": "stdout",
          "output_type": "stream",
          "text": [
            "['trek', 'redline', 'giant']\n"
          ]
        },
        {
          "data": {
            "text/plain": [
              "'giant'"
            ]
          },
          "execution_count": 31,
          "metadata": {},
          "output_type": "execute_result"
        }
      ]
    },
    {
      "cell_type": "code",
      "metadata": {
        "id": "kNRqeyo-1qvC",
        "outputId": "dd29d7fc-08ee-4a0d-96d5-85e5aadac806"
      },
      "source": [
        "#Copier une liste \n",
        "copy_of_bikes = bikes[:]\n",
        "print(bikes)\n",
        "print(copy_of_bikes )"
      ],
      "execution_count": null,
      "outputs": [
        {
          "name": "stdout",
          "output_type": "stream",
          "text": [
            "['trek', 'redline', 'giant']\n",
            "['trek', 'redline', 'giant']\n"
          ]
        }
      ]
    },
    {
      "cell_type": "code",
      "metadata": {
        "id": "iENC3Ke11qvF",
        "outputId": "d94fb668-cb19-4e0f-9211-be84a51eb636"
      },
      "source": [
        "#Ajouter un élèment à une liste\n",
        "bikes = []\n",
        "bikes.append('trek')\n",
        "bikes.append('redline')\n",
        "bikes.append('giant')\n",
        "#Affichage\n",
        "bikes"
      ],
      "execution_count": null,
      "outputs": [
        {
          "data": {
            "text/plain": [
              "['trek', 'redline', 'giant']"
            ]
          },
          "execution_count": 33,
          "metadata": {},
          "output_type": "execute_result"
        }
      ]
    },
    {
      "cell_type": "code",
      "metadata": {
        "id": "3ROvCNCA1qvF",
        "outputId": "ed5dae00-691b-4448-ec88-ac6d6e68618e"
      },
      "source": [
        "#Trancher une liste \n",
        "bikes2 =['trek', 'redline','giant','giant1','giant2']\n",
        "#Récupérer les deux premiers élèments de la liste\n",
        "deux_premier_bike=bikes[:3]\n",
        "#Affichage du contenu \n",
        "deux_premier_bike"
      ],
      "execution_count": null,
      "outputs": [
        {
          "data": {
            "text/plain": [
              "['trek', 'redline', 'giant']"
            ]
          },
          "execution_count": 35,
          "metadata": {},
          "output_type": "execute_result"
        }
      ]
    },
    {
      "cell_type": "code",
      "metadata": {
        "id": "fAZ4eG9C1qvG",
        "outputId": "d579c98a-2724-473b-968b-2b1edf77b1f4"
      },
      "source": [
        "#Récupérer les deux élèments du milieu\n",
        "middle_bike=bikes[1:4]\n",
        "middle_bike"
      ],
      "execution_count": null,
      "outputs": [
        {
          "data": {
            "text/plain": [
              "['redline', 'giant']"
            ]
          },
          "execution_count": 38,
          "metadata": {},
          "output_type": "execute_result"
        }
      ]
    },
    {
      "cell_type": "code",
      "metadata": {
        "id": "VACU6W6R1qvG",
        "outputId": "a5e7d835-aefa-4ab3-a7fb-58cadeeae5fa"
      },
      "source": [
        "#Récupérer les deux derniers élèments \n",
        "derniers_bike=bikes[-3:]\n",
        "derniers_bike"
      ],
      "execution_count": null,
      "outputs": [
        {
          "data": {
            "text/plain": [
              "['trek', 'redline', 'giant']"
            ]
          },
          "execution_count": 40,
          "metadata": {},
          "output_type": "execute_result"
        }
      ]
    },
    {
      "cell_type": "code",
      "metadata": {
        "id": "8J3LWfBm1qvG",
        "outputId": "520af406-dc02-4a62-a11a-11d0d57363b8"
      },
      "source": [
        "#Simple Statistiques\n",
        "ages=[93,25,44,11,45,75,88,96,85]\n",
        "print('youngest =',min(ages))\n",
        "print('oldest = ',max(ages))\n",
        "print('total_années =',sum(ages))\n"
      ],
      "execution_count": null,
      "outputs": [
        {
          "name": "stdout",
          "output_type": "stream",
          "text": [
            "youngest = 11\n",
            "oldest =  96\n",
            "total_années = 562\n"
          ]
        }
      ]
    },
    {
      "cell_type": "code",
      "metadata": {
        "id": "sOsP6IaV1qvH",
        "outputId": "b269aefd-dd13-4da4-c312-ea691f6e9e57"
      },
      "source": [
        "#Supprimer un élément de la liste\n",
        "b=['red','yellow','green','blue','purple']\n",
        "print(b)\n",
        "#Supprimer le dernier élément  de la liste\n",
        "copy1=b.pop()\n",
        "print('élèment supprimer=',copy1)\n",
        "print(b)"
      ],
      "execution_count": null,
      "outputs": [
        {
          "name": "stdout",
          "output_type": "stream",
          "text": [
            "['red', 'yellow', 'green', 'blue', 'purple']\n",
            "élèment supprimer= purple\n",
            "['red', 'yellow', 'green', 'blue']\n"
          ]
        }
      ]
    },
    {
      "cell_type": "code",
      "metadata": {
        "id": "Rb-8Bjek1qvH",
        "outputId": "0e59934f-c7da-41d1-ba9b-d48942e76b29"
      },
      "source": [
        "#Supprimer un élément par son index avec del\n",
        "del b[1] \n",
        "#b.pop(1)\n",
        "b"
      ],
      "execution_count": null,
      "outputs": [
        {
          "data": {
            "text/plain": [
              "['red']"
            ]
          },
          "execution_count": 46,
          "metadata": {},
          "output_type": "execute_result"
        }
      ]
    },
    {
      "cell_type": "markdown",
      "metadata": {
        "id": "JtmHr0Jt1qvH"
      },
      "source": [
        "### Tuple\n",
        "Les tuples correspondent aux listes à la différence qu’ils sont non modifiables."
      ]
    },
    {
      "cell_type": "code",
      "metadata": {
        "id": "hH2NJMdP1qvI",
        "outputId": "aac17dcd-164e-4e23-fd46-65b81673b6b5"
      },
      "source": [
        "#Définition d'un tuple\n",
        "dimensions=(800,600,500,400)\n",
        "#Ecraser un tuple\n",
        "print('dimensions',dimensions)\n"
      ],
      "execution_count": null,
      "outputs": [
        {
          "name": "stdout",
          "output_type": "stream",
          "text": [
            "dimensions (800, 600, 500, 400)\n"
          ]
        }
      ]
    },
    {
      "cell_type": "markdown",
      "metadata": {
        "id": "fTlynJ1P1qvI"
      },
      "source": [
        "### Dictionnary\n",
        "Les dictionnaires se révèlent très pratiques lorsque vous devez manipuler des structures complexes à décrire et que les listes présentent leurs limites. Les dictionnaires sont des collections non ordonnées d’objets. Chaque information dans un dictionnaire est stockée sous forme d'une paire clé-valeur. Pour chaque clé fournie, python renvoie la valeur associée\n",
        "à une clé."
      ]
    },
    {
      "cell_type": "code",
      "metadata": {
        "id": "W99cf36q1qvJ",
        "outputId": "651b784d-c21f-47be-e51f-200731874d9c"
      },
      "source": [
        "#création d'un dictionnaire\n",
        "alien_0 = {'color': 'green', 'points': 5}\n",
        "alien_0"
      ],
      "execution_count": null,
      "outputs": [
        {
          "data": {
            "text/plain": [
              "{'color': 'green', 'points': 5}"
            ]
          },
          "execution_count": 31,
          "metadata": {
            "tags": []
          },
          "output_type": "execute_result"
        }
      ]
    },
    {
      "cell_type": "code",
      "metadata": {
        "id": "rbdJvyLd1qvK",
        "outputId": "ce03f23d-ac68-428b-d68e-7d291abeea70"
      },
      "source": [
        "#Récupérer une valeur par sa clé\n",
        "alien_0 = {'color': ['green','blue'], 'points': 5}\n",
        "print(alien_0['color'])\n",
        "print(alien_0['points'])"
      ],
      "execution_count": null,
      "outputs": [
        {
          "name": "stdout",
          "output_type": "stream",
          "text": [
            "['green', 'blue']\n",
            "5\n"
          ]
        }
      ]
    },
    {
      "cell_type": "code",
      "metadata": {
        "id": "CNBH8xUA1qvK",
        "outputId": "ce3e289e-8269-4dd5-e108-07674bdaeac8"
      },
      "source": [
        "#Récupérer une valeur par get()\n",
        "alien_0 = {'color': ['green','blue','yellow']}\n",
        "alien_color = alien_0.get('color')\n",
        "print(alien_color)"
      ],
      "execution_count": null,
      "outputs": [
        {
          "name": "stdout",
          "output_type": "stream",
          "text": [
            "['green', 'blue', 'yellow']\n"
          ]
        }
      ]
    },
    {
      "cell_type": "code",
      "metadata": {
        "id": "Qd_Okn1o1qvL",
        "outputId": "e3160864-8516-483d-94bc-4a1495b86324"
      },
      "source": [
        "#Ajouter une clé-valeur \n",
        "alien_0= {'color': 'green', 'points': 5}\n",
        "alien_0['x'] = 0\n",
        "alien_0['y'] = 25\n",
        "alien_0['speed'] = 1.5\n",
        "print(alien_0)"
      ],
      "execution_count": null,
      "outputs": [
        {
          "name": "stdout",
          "output_type": "stream",
          "text": [
            "{'color': 'green', 'points': 5, 'x': 0, 'y': 25, 'speed': 1.5}\n"
          ]
        }
      ]
    },
    {
      "cell_type": "code",
      "metadata": {
        "id": "VrufvyMs1qvL",
        "outputId": "957e5f89-d863-4120-bb52-da97bb74fff3"
      },
      "source": [
        "#Ajouter une clé-valeur à un dictionnaire vide\n",
        "alien_0 = {}\n",
        "alien_0['color'] = 'green'\n",
        "alien_0['points'] = 5\n",
        "print(alien_0)"
      ],
      "execution_count": null,
      "outputs": [
        {
          "name": "stdout",
          "output_type": "stream",
          "text": [
            "{'color': 'green', 'points': 5}\n"
          ]
        }
      ]
    },
    {
      "cell_type": "code",
      "metadata": {
        "id": "1ZdCXJyx1qvM",
        "outputId": "0f800a14-32cc-43d0-bfa1-044f73879170"
      },
      "source": [
        "#Modifier les valeurs d'un dictionnaire\n",
        "alien_0 = {'color': 'green', 'points': 5}\n",
        "print(alien_0)\n",
        "# Changer les clés et leurs valeurs \n",
        "alien_0['color'] = ['red','blue']\n",
        "alien_0['points'] = 10\n",
        "print(alien_0)"
      ],
      "execution_count": null,
      "outputs": [
        {
          "name": "stdout",
          "output_type": "stream",
          "text": [
            "{'color': 'green', 'points': 5}\n",
            "{'color': ['red', 'blue'], 'points': 10}\n"
          ]
        }
      ]
    },
    {
      "cell_type": "markdown",
      "metadata": {
        "id": "yDAQ3juj1qvM"
      },
      "source": [
        "## 3.Boucles"
      ]
    },
    {
      "cell_type": "markdown",
      "metadata": {
        "id": "qfRtFNhI1qvM"
      },
      "source": [
        "### 3.1 Boucle for\n"
      ]
    },
    {
      "cell_type": "code",
      "metadata": {
        "id": "mnzDvWf81qvN",
        "outputId": "3d0fb6b1-13e4-418b-bec1-3960e23ce996"
      },
      "source": [
        "animaux = ['girafe','tigre','singe','souris']\n",
        "print(animaux[0])\n",
        "print(animaux[1])\n",
        "print(animaux[2])\n",
        "print(animaux[3])\n"
      ],
      "execution_count": null,
      "outputs": [
        {
          "name": "stdout",
          "output_type": "stream",
          "text": [
            "girafe\n",
            "tigre\n",
            "singe\n",
            "souris\n"
          ]
        }
      ]
    },
    {
      "cell_type": "code",
      "metadata": {
        "id": "sc1ntSNQ1qvN",
        "outputId": "1c04a3c4-31ac-426e-de33-f09877fa6aa2"
      },
      "source": [
        "# les : et l’indentation sont formellement requis en Python.\n",
        "for elt in animaux:\n",
        "    print(elt)"
      ],
      "execution_count": null,
      "outputs": [
        {
          "name": "stdout",
          "output_type": "stream",
          "text": [
            "girafe\n",
            "tigre\n",
            "singe\n",
            "souris\n"
          ]
        }
      ]
    },
    {
      "cell_type": "code",
      "metadata": {
        "collapsed": true,
        "id": "2eaUkuDn1qvN",
        "outputId": "b0fb850b-e2f5-49c3-d92b-ef59d428dcea"
      },
      "source": [
        "for i in [1,2,3,4]:\n",
        "    print(i)"
      ],
      "execution_count": null,
      "outputs": [
        {
          "name": "stdout",
          "output_type": "stream",
          "text": [
            "1\n",
            "2\n",
            "3\n",
            "4\n"
          ]
        }
      ]
    },
    {
      "cell_type": "code",
      "metadata": {
        "id": "pBz-3XS21qvO",
        "outputId": "5371492e-cc79-4501-9d7e-3c9a7f2fe5e4"
      },
      "source": [
        "for i in range(4):\n",
        "    print(i)"
      ],
      "execution_count": null,
      "outputs": [
        {
          "name": "stdout",
          "output_type": "stream",
          "text": [
            "0\n",
            "1\n",
            "2\n",
            "3\n"
          ]
        }
      ]
    },
    {
      "cell_type": "markdown",
      "metadata": {
        "id": "OKB4913X1qvO"
      },
      "source": [
        "L’instruction range() est une fonction spéciale en Python qui va nous permettre de générer des nombres entiers compris dans un intervalle "
      ]
    },
    {
      "cell_type": "code",
      "metadata": {
        "id": "JXGQv-aa1qvO",
        "outputId": "f7567da5-c473-4d7d-f47c-5233cb44e74f"
      },
      "source": [
        "animaux = ['girafe','tigre','singe','souris']\n",
        "#Itération sur les indices\n",
        "for i in range(len(animaux)):\n",
        "    print(animaux[i])"
      ],
      "execution_count": null,
      "outputs": [
        {
          "name": "stdout",
          "output_type": "stream",
          "text": [
            "girafe\n",
            "tigre\n",
            "singe\n",
            "souris\n"
          ]
        }
      ]
    },
    {
      "cell_type": "code",
      "metadata": {
        "id": "8Mpoq7rz-Ujm",
        "outputId": "286dcd92-e11f-4370-893b-e20241efa0a2"
      },
      "source": [
        "# les : et l’indentation sont formellement requis en Python.\n",
        "for elt in animaux:\n",
        "    print(elt)"
      ],
      "execution_count": null,
      "outputs": [
        {
          "name": "stdout",
          "output_type": "stream",
          "text": [
            "girafe\n",
            "tigre\n",
            "singe\n",
            "souris\n"
          ]
        }
      ]
    },
    {
      "cell_type": "code",
      "metadata": {
        "id": "RVB93KRo1qvP",
        "outputId": "a644c793-a121-4406-cd3c-d8fc79ee6308"
      },
      "source": [
        "# les : et l’indentation sont formellement requis en Python.\n",
        "for animal in animaux:\n",
        "    print(animal)"
      ],
      "execution_count": null,
      "outputs": [
        {
          "name": "stdout",
          "output_type": "stream",
          "text": [
            "girafe\n",
            "tigre\n",
            "singe\n",
            "souris\n"
          ]
        }
      ]
    },
    {
      "cell_type": "code",
      "metadata": {
        "id": "Kr-16wIL1qvP",
        "outputId": "4038d5c2-bb52-480a-bcff-c403bab3737a"
      },
      "source": [
        "[0,1,2,3,4]"
      ],
      "execution_count": null,
      "outputs": [
        {
          "data": {
            "text/plain": [
              "[0, 1, 2, 3, 4]"
            ]
          },
          "execution_count": 28,
          "metadata": {
            "tags": []
          },
          "output_type": "execute_result"
        }
      ]
    },
    {
      "cell_type": "code",
      "metadata": {
        "id": "NB7pQHe71qvP",
        "outputId": "948d770c-0c26-455b-f1ec-bf7b7377d711"
      },
      "source": [
        "list(range(0,5))"
      ],
      "execution_count": null,
      "outputs": [
        {
          "data": {
            "text/plain": [
              "[0, 1, 2, 3, 4]"
            ]
          },
          "execution_count": 44,
          "metadata": {
            "tags": []
          },
          "output_type": "execute_result"
        }
      ]
    },
    {
      "cell_type": "code",
      "metadata": {
        "id": "H1nWUYdR1qvQ",
        "outputId": "40b51ab0-7a56-4c25-881a-f8a29872326f"
      },
      "source": [
        "#Itérer sur le dictionnaire\n",
        "fav_numbers = {'eric': 17, 'ever': 4}\n",
        "for name, number in fav_numbers.items():\n",
        "    print(name + ' has ' + str(number) +' cars')"
      ],
      "execution_count": null,
      "outputs": [
        {
          "name": "stdout",
          "output_type": "stream",
          "text": [
            "eric has 17 cars\n",
            "ever has 4 cars\n"
          ]
        }
      ]
    },
    {
      "cell_type": "code",
      "metadata": {
        "id": "4qzQs25u1qvQ",
        "outputId": "2f93f338-2510-4cef-db73-45c72e7b74f9"
      },
      "source": [
        "#Itérer sur toutes les clés\n",
        "fav_numbers = {'eric': 17, 'ever': 4}\n",
        "for name in fav_numbers.keys():\n",
        "    print(name + ' loves cars')"
      ],
      "execution_count": null,
      "outputs": [
        {
          "name": "stdout",
          "output_type": "stream",
          "text": [
            "eric loves cars\n",
            "ever loves cars\n"
          ]
        }
      ]
    },
    {
      "cell_type": "code",
      "metadata": {
        "id": "waclQhO81qvR",
        "outputId": "65cfc4e8-ba7c-4880-eda0-aeabe45339bf"
      },
      "source": [
        "#Itérer sur toutes les valeurs\n",
        "fav_numbers = {'eric': 17, 'ever': 4}\n",
        "for number in fav_numbers.values():\n",
        "    print(number, 'is a favorite')"
      ],
      "execution_count": null,
      "outputs": [
        {
          "name": "stdout",
          "output_type": "stream",
          "text": [
            "17 is a favorite\n",
            "4 is a favorite\n"
          ]
        }
      ]
    },
    {
      "cell_type": "markdown",
      "metadata": {
        "id": "2pe-qk6p1qvR"
      },
      "source": [
        "### Boucle While"
      ]
    },
    {
      "cell_type": "code",
      "metadata": {
        "id": "qFiyVbqd1qvR",
        "outputId": "f06214ee-13fc-44ea-ee2d-522a66178fef"
      },
      "source": [
        "i = 1\n",
        "while i <= 4:\n",
        "    print(i)\n",
        "    i = i + 1\n",
        "print('aprés modification',i)"
      ],
      "execution_count": null,
      "outputs": [
        {
          "name": "stdout",
          "output_type": "stream",
          "text": [
            "1\n",
            "2\n",
            "3\n",
            "4\n",
            "aprés modification 5\n"
          ]
        }
      ]
    },
    {
      "cell_type": "markdown",
      "metadata": {
        "id": "D0aLdw3Z1qvS"
      },
      "source": [
        "## 4. Fonctions\n",
        "Pour indiquer à l'interpréteur que vous voulez créer une fonction, vous utilisez le mot clé \"def\" suivi du nom de la fonction puis de parenthèses, contenant les paramètres et ensuite d'un double point.\n",
        "\n",
        "def nom_de_la_fonction(parametre1, parametre2, parametre3, parametreN):\n",
        "    # Bloc d'instructions\n",
        "\n",
        "On remarque également qu'il y a un espace entre les 2 points et le mot clé \"return\", il s'agit d'une indentation , c'est à dire un espace qui améliore non seulement la lecture de la fonction mais qui indique que nous sommes toujours dans la fonction."
      ]
    },
    {
      "cell_type": "code",
      "metadata": {
        "id": "VXy_kVtc1qvS",
        "outputId": "966d1599-33d9-4dff-f3ed-02281a125faf"
      },
      "source": [
        "def carre(x):\n",
        "    return x**2\n",
        "carre(6)"
      ],
      "execution_count": null,
      "outputs": [
        {
          "data": {
            "text/plain": [
              "36"
            ]
          },
          "execution_count": 68,
          "metadata": {},
          "output_type": "execute_result"
        }
      ]
    },
    {
      "cell_type": "code",
      "metadata": {
        "id": "O9te3C7w1qvS",
        "outputId": "2b2ff8ce-9fbb-4301-d328-8220fb68a639"
      },
      "source": [
        "def hello():\n",
        "    print(\"Bonjour\")\n",
        "\n",
        "hello()"
      ],
      "execution_count": null,
      "outputs": [
        {
          "name": "stdout",
          "output_type": "stream",
          "text": [
            "Bonjour\n"
          ]
        }
      ]
    },
    {
      "cell_type": "code",
      "metadata": {
        "id": "PzZszB3F1qvT",
        "outputId": "ceaa7864-69aa-49e7-e603-841bbf2820aa"
      },
      "source": [
        "# Passage d’arguments\n",
        "def fois(x,y):\n",
        "    return x*y\n",
        "\n",
        "#print(fois(2,5))\n",
        "fois(4,4)"
      ],
      "execution_count": null,
      "outputs": [
        {
          "data": {
            "text/plain": [
              "16"
            ]
          },
          "execution_count": 72,
          "metadata": {},
          "output_type": "execute_result"
        }
      ]
    },
    {
      "cell_type": "code",
      "metadata": {
        "id": "wHBye4Hp1qvT",
        "outputId": "d5bbaa2d-8340-4c93-c357-1ff5263572d1"
      },
      "source": [
        "def carre_cube(x):\n",
        "    return x**2,x**3\n",
        "\n",
        "y,n=carre_cube(3)\n",
        "print(y,n)"
      ],
      "execution_count": null,
      "outputs": [
        {
          "name": "stdout",
          "output_type": "stream",
          "text": [
            "9 27\n"
          ]
        }
      ]
    },
    {
      "cell_type": "code",
      "metadata": {
        "id": "9oIaYlNv1qvT",
        "outputId": "36558dfb-ffb8-44ac-a58a-c18343be2399"
      },
      "source": [
        "#Affichage des résultats\n",
        "def carre_cube(x):\n",
        "    return x**2,x**3\n",
        "\n",
        "carre_cube(3)\n"
      ],
      "execution_count": null,
      "outputs": [
        {
          "data": {
            "text/plain": [
              "(9, 27)"
            ]
          },
          "execution_count": 74,
          "metadata": {},
          "output_type": "execute_result"
        }
      ]
    },
    {
      "cell_type": "code",
      "metadata": {
        "id": "xUp3ewqP1qvU",
        "outputId": "323c80a9-2804-4812-b578-1091ccb2550d"
      },
      "source": [
        "def carre_cube2(x):\n",
        "    return [x**2,x**3]\n",
        "\n",
        "temp=carre_cube2(3)\n",
        "print(temp)"
      ],
      "execution_count": null,
      "outputs": [
        {
          "name": "stdout",
          "output_type": "stream",
          "text": [
            "[9, 27]\n",
            "45\n",
            "135\n"
          ]
        }
      ]
    },
    {
      "cell_type": "code",
      "metadata": {
        "id": "y-VKrVOi1qvU",
        "outputId": "eb7da118-acf5-42dc-c245-fe234f35ade1"
      },
      "source": [
        "#Fonction avec argument prédéfini\n",
        "def useless_fct(x=1):\n",
        "    return x\n",
        "\n",
        "print(useless_fct())\n",
        "\n",
        "print(useless_fct(10))"
      ],
      "execution_count": null,
      "outputs": [
        {
          "name": "stdout",
          "output_type": "stream",
          "text": [
            "1\n",
            "10\n"
          ]
        }
      ]
    },
    {
      "cell_type": "markdown",
      "metadata": {
        "id": "b-g2GHSj1qvU"
      },
      "source": [
        "### Fonction anonyme Lambda\n",
        "Syntaxe:  lambda arguments : expression"
      ]
    },
    {
      "cell_type": "code",
      "metadata": {
        "id": "OpixHp5R-Ujq",
        "outputId": "1b00787d-3d23-4327-ffc7-2ad023d44eed"
      },
      "source": [
        "def useless_fct(x):\n",
        "    return x + 10\n",
        "\n",
        "useless_fct(5)"
      ],
      "execution_count": null,
      "outputs": [
        {
          "data": {
            "text/plain": [
              "15"
            ]
          },
          "execution_count": 81,
          "metadata": {},
          "output_type": "execute_result"
        }
      ]
    },
    {
      "cell_type": "code",
      "metadata": {
        "id": "gqPFpEab1qvV",
        "outputId": "bcd5152f-24ec-4599-9f7d-805109eabf45"
      },
      "source": [
        "a = lambda x : x + 10\n",
        "print(a(5))"
      ],
      "execution_count": null,
      "outputs": [
        {
          "name": "stdout",
          "output_type": "stream",
          "text": [
            "15\n"
          ]
        }
      ]
    },
    {
      "cell_type": "code",
      "metadata": {
        "id": "ZM3O7w5b1qvV",
        "outputId": "836e3a98-f7a6-44e7-d738-6c4fd60d1f63"
      },
      "source": [
        "#Exemple de la fonction anonyme Lambda\n",
        "def incrementer(n):\n",
        "    return lambda x:x**n\n",
        "result=incrementer(2) #Fixer n\n",
        "result(3) # Définir l'argument x"
      ],
      "execution_count": null,
      "outputs": [
        {
          "data": {
            "text/plain": [
              "9"
            ]
          },
          "execution_count": 85,
          "metadata": {},
          "output_type": "execute_result"
        }
      ]
    },
    {
      "cell_type": "code",
      "metadata": {
        "id": "6eh3fFHH1qvV",
        "outputId": "7b40c8c8-8057-40f4-a853-e83eacb7932c"
      },
      "source": [
        "#Ordonner les élément d'une liste de tuplets en utilisant la fonction lambda\n",
        "pairs = [(1, 'one'), (2, 'two'), (3, 'three'), (4, 'four')]\n",
        "pairs.sort(key=lambda pair: pair[1])\n",
        "pairs"
      ],
      "execution_count": null,
      "outputs": [
        {
          "data": {
            "text/plain": [
              "[(4, 'four'), (1, 'one'), (3, 'three'), (2, 'two')]"
            ]
          },
          "execution_count": 88,
          "metadata": {},
          "output_type": "execute_result"
        }
      ]
    },
    {
      "cell_type": "code",
      "metadata": {
        "id": "GtOqhkvB1qvW",
        "outputId": "b837a926-f5e3-4717-c1b8-da34c76c2dce"
      },
      "source": [
        "def my_function():\n",
        "    \"\"\"Do nothing, but document it.\n",
        "\n",
        "     No, really, it doesn't do anything.\n",
        "     \"\"\"\n",
        "    print('Doing nothing')\n",
        "    pass\n",
        "\n",
        "#print( my_function.__doc__)\n",
        "my_function()\n"
      ],
      "execution_count": null,
      "outputs": [
        {
          "name": "stdout",
          "output_type": "stream",
          "text": [
            "Doing nothing\n"
          ]
        }
      ]
    },
    {
      "cell_type": "markdown",
      "metadata": {
        "id": "VQdbq0X_1qvW"
      },
      "source": [
        "## Set\n"
      ]
    },
    {
      "cell_type": "code",
      "metadata": {
        "id": "80VV4m4l1qvW",
        "outputId": "6749685c-e19c-458b-c615-2e13b41da1e1"
      },
      "source": [
        "#Créer un Set:\n",
        "thisset = {\"apple\", \"banana\", \"cherry\"}\n",
        "print(thisset) "
      ],
      "execution_count": null,
      "outputs": [
        {
          "name": "stdout",
          "output_type": "stream",
          "text": [
            "{'apple', 'cherry', 'banana'}\n"
          ]
        }
      ]
    },
    {
      "cell_type": "code",
      "metadata": {
        "id": "xgfMNzTA1qvW",
        "outputId": "7f48a617-b7cd-4331-c883-6fe0d3660927"
      },
      "source": [
        "#Loop through the set, and print the values:\n",
        "thisset = {\"apple\", \"banana\", \"cherry\"}\n",
        "for x in thisset:\n",
        "    print(x) "
      ],
      "execution_count": null,
      "outputs": [
        {
          "name": "stdout",
          "output_type": "stream",
          "text": [
            "cherry\n",
            "banana\n",
            "apple\n"
          ]
        }
      ]
    },
    {
      "cell_type": "code",
      "metadata": {
        "id": "a-1mkubH1qvX",
        "outputId": "b24bc84a-6957-4f02-8bb1-24e031c42c78"
      },
      "source": [
        "#Véifier si l'élément \"banana\" est présent dans le set:\n",
        "thisset = {\"apple\", \"banana\", \"cherry\"}\n",
        "\n",
        "print(\"banana\" in thisset)"
      ],
      "execution_count": null,
      "outputs": [
        {
          "name": "stdout",
          "output_type": "stream",
          "text": [
            "True\n"
          ]
        }
      ]
    },
    {
      "cell_type": "code",
      "metadata": {
        "id": "E2VZMl9m-Ujr",
        "outputId": "711474cb-650f-49aa-8a5f-10496b543b9b"
      },
      "source": [
        "1 in (1,2,8)"
      ],
      "execution_count": null,
      "outputs": [
        {
          "data": {
            "text/plain": [
              "True"
            ]
          },
          "execution_count": 92,
          "metadata": {},
          "output_type": "execute_result"
        }
      ]
    },
    {
      "cell_type": "code",
      "metadata": {
        "id": "BHV-blFH1qvX",
        "outputId": "5b099a0d-48f2-4937-aabb-6286d5a351a3"
      },
      "source": [
        "\n",
        "thisset = {\"apple\", \"banana\", \"cherry\"}\n",
        "#Ajouter un nouvel élèment \n",
        "thisset.add(\"orange\")\n",
        "\n",
        "print(thisset) "
      ],
      "execution_count": null,
      "outputs": [
        {
          "name": "stdout",
          "output_type": "stream",
          "text": [
            "{'banana', 'apple', 'cherry', 'orange'}\n"
          ]
        }
      ]
    },
    {
      "cell_type": "code",
      "metadata": {
        "id": "Xg9Y2lc91qvX",
        "outputId": "9e0cd55b-fc2a-499d-9298-4d25826cf2e7"
      },
      "source": [
        "thisset = {\"apple\", \"banana\", \"cherry\"}\n",
        "# vérifier la taille du set\n",
        "print(len(thisset)) "
      ],
      "execution_count": null,
      "outputs": [
        {
          "name": "stdout",
          "output_type": "stream",
          "text": [
            "3\n"
          ]
        }
      ]
    },
    {
      "cell_type": "code",
      "metadata": {
        "id": "wf9Qfsqn1qvY",
        "outputId": "5ca5a269-15cd-4182-ad17-6ca5974b93bc"
      },
      "source": [
        "#Supprimer l'élément \"banana\" en utilisant la fonction remove():\n",
        "thisset = {\"apple\", \"banana\", \"cherry\"}\n",
        "\n",
        "thisset.remove(\"banana\")\n",
        "\n",
        "print(thisset) "
      ],
      "execution_count": null,
      "outputs": [
        {
          "name": "stdout",
          "output_type": "stream",
          "text": [
            "{'apple', 'cherry'}\n"
          ]
        }
      ]
    },
    {
      "cell_type": "code",
      "metadata": {
        "id": "FWqZroPA1qvY",
        "outputId": "7a4cad26-178e-4f17-d719-431e4e6ec59e"
      },
      "source": [
        "#Exemple d'utilisation des sets : Concept de set compréhension pour optimiser le code\n",
        "a = {x for x in 'abracad' if x not in 'abc'}\n",
        "a"
      ],
      "execution_count": null,
      "outputs": [
        {
          "data": {
            "text/plain": [
              "{'d', 'r'}"
            ]
          },
          "execution_count": 51,
          "metadata": {
            "tags": []
          },
          "output_type": "execute_result"
        }
      ]
    },
    {
      "cell_type": "code",
      "metadata": {
        "id": "lTJ_z6Fy1qvZ",
        "outputId": "bce79281-f20f-4caa-a296-6dce1fe08272"
      },
      "source": [
        "#Liste de compréhension permet d'optimier le code\n",
        "squares=[x**2 for x in range(1,9)] #[1,2,3,4,5,6,7,8]\n",
        "print(squares)"
      ],
      "execution_count": null,
      "outputs": [
        {
          "name": "stdout",
          "output_type": "stream",
          "text": [
            "[1, 4, 9, 16, 25, 36, 49, 64]\n"
          ]
        }
      ]
    }
  ]
}